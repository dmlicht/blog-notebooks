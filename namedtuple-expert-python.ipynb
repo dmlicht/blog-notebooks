{
 "cells": [
  {
   "cell_type": "markdown",
   "metadata": {},
   "source": [
    "# Use a [Named Tuple](https://docs.python.org/3/library/collections.html#collections.namedtuple) Instead of a Data Class.\n",
    "\n",
    "Do you ever find yourself writing classes simply to organize your data. The classes don't have any business logic. They just show that certain fields belong together. Think of a point on a two dimensional graph: A point doesn't need to do anything, but it has an `x` and `y` that belong together. Your point class could look like this:"
   ]
  },
  {
   "cell_type": "code",
   "execution_count": 1,
   "metadata": {
    "collapsed": true
   },
   "outputs": [],
   "source": [
    "class Point:\n",
    "    def __init__(self, x, y):\n",
    "        self.x = x\n",
    "        self.y = y"
   ]
  },
  {
   "cell_type": "markdown",
   "metadata": {},
   "source": [
    "It feels like a lot of lines of code to simply say, `x` and `y` belong together, please let them be together! Is there a clearer and cleaner way to accomplish this? Yes! Enter named tuples. The above snippet could be as simple as:\n",
    "\n",
    "    Point = namedtuple('Point', 'x y')\n",
    "\n",
    "Let's unpack the line above. `namedtuple` is a creating a tuple subclass with the typename `Point` with the fields `x` and `y`, we're taking this return value and storing it as `Point`. Now we can use Point just like if we had created it with an entire class.\n",
    "\n",
    "    my_point = Point(10, 20)\n",
    "\n",
    "### Let's look at an example file from the world of real code. \n",
    "The [halite](https://halite.io/) programming challenge has a file [htl.py](https://github.com/HaliteChallenge/Halite/blob/master/airesources/Python/hlt.py), with several such classes. Let's see if we can rewrite it using `namedtuple`"
   ]
  },
  {
   "cell_type": "code",
   "execution_count": 2,
   "metadata": {
    "collapsed": true
   },
   "outputs": [],
   "source": [
    "class Location:\n",
    "    def __init__(self, x=0, y=0):\n",
    "        self.x = x\n",
    "        self.y = y\n",
    "\n",
    "class Site:\n",
    "    def __init__(self, owner=0, strength=0, production=0):\n",
    "        self.owner = owner\n",
    "        self.strength = strength\n",
    "        self.production = production\n",
    "\n",
    "class Move:\n",
    "    def __init__(self, loc=0, direction=0):\n",
    "        self.loc = loc\n",
    "        self.direction = direction"
   ]
  },
  {
   "cell_type": "markdown",
   "metadata": {},
   "source": [
    "Using `namedtuple`, we can convert each of these classes to one line of code."
   ]
  },
  {
   "cell_type": "code",
   "execution_count": 3,
   "metadata": {
    "collapsed": true
   },
   "outputs": [],
   "source": [
    "from collections import namedtuple\n",
    "Location = namedtuple('Location', ['x', 'y']) # we define our tuples attributes with a list\n",
    "Site = namedtuple('Site', ['owner strength production']) # We can also pass them in as a space delimited string\n",
    "Move = namedtuple('Move', 'loc direction') # pretty nifty eh?"
   ]
  },
  {
   "cell_type": "markdown",
   "metadata": {},
   "source": [
    "More concise, how nice? **Clear and brief code is what python is all about.**  \n",
    "But wait, we just lost our default arguments.\n",
    "\n",
    "As of now, `namedtuple` doesn't have a beautiful way to set argument defaults. It's quite easy though, if you don't mind getting your hands a little dirty. To create `Location` with argument defaults:"
   ]
  },
  {
   "cell_type": "code",
   "execution_count": 4,
   "metadata": {
    "collapsed": true
   },
   "outputs": [],
   "source": [
    "Location = namedtuple('Location', ['x', 'y'])\n",
    "Location.__new__.__defaults__ = (0,0)"
   ]
  },
  {
   "cell_type": "markdown",
   "metadata": {},
   "source": [
    "It would be ugly to do this all the time, so let's wrap it in a handy little function:"
   ]
  },
  {
   "cell_type": "code",
   "execution_count": 6,
   "metadata": {
    "collapsed": false
   },
   "outputs": [],
   "source": [
    "def namedtuple_defaults(typename, field_names, defaults):\n",
    "    nt = namedtuple(typename, field_names)\n",
    "    nt.__new__.__defaults__ = defaults\n",
    "    return nt"
   ]
  },
  {
   "cell_type": "markdown",
   "metadata": {},
   "source": [
    "Now we can do:"
   ]
  },
  {
   "cell_type": "code",
   "execution_count": 7,
   "metadata": {
    "collapsed": true
   },
   "outputs": [],
   "source": [
    "Move = namedtuple_defaults('Location', 'x y', (0, 0))"
   ]
  },
  {
   "cell_type": "markdown",
   "metadata": {},
   "source": [
    "Our final code will look like:"
   ]
  },
  {
   "cell_type": "code",
   "execution_count": 8,
   "metadata": {
    "collapsed": true
   },
   "outputs": [],
   "source": [
    "from collections import namedtuple\n",
    "\n",
    "def namedtuple_defaults(typename, field_names, defaults):\n",
    "    nt = namedtuple(typename, field_names)\n",
    "    nt.__new__.__defaults__ = defaults\n",
    "    return nt\n",
    "\n",
    "Location = namedtuple_defaults('Location', 'x y', (0,0))\n",
    "Site = namedtuple_defaults('Site', 'owner strength production', (0,0,0))\n",
    "Move = namedtuple_defaults('Move', 'loc direction', (0,0))"
   ]
  },
  {
   "cell_type": "markdown",
   "metadata": {},
   "source": [
    "### What if you only want defaults for some of the arguments?\n",
    "That's Ok! Defaults will be associated with the last arguments. For example, let's say you have four arguments `a`, `b`, `c`, `d` and you pass in two defaults `(10, 20)`. `a`, `b`, will remain required arguments while `c` and `d` will be optional arguments with defaults `10` and `20` respectively."
   ]
  },
  {
   "cell_type": "markdown",
   "metadata": {},
   "source": [
    "### Wrap Up"
   ]
  },
  {
   "cell_type": "markdown",
   "metadata": {},
   "source": [
    "In this example, we've only saved ourself a few lines of code because we had to write a wrapper function. It's clear to see that the advantage to using `namedtuple` grows when we use more data objects. Conceptually, our code is cleaner because we've stripped out the boilerplate and repetition. \n",
    "\n",
    "#### Advantages\n",
    "  + You can save yourself a lot of code if your project is filled with data objects.\n",
    "  + Named tuples show their intent. If you are using one, its fully clear your object isn't meant to do anything, It's just here hold data and by used by other code. If you create a class, it's more ambigious. Your object could hold a little data here and do a little computing there, and the user will have to look at the class.\n",
    "\n",
    "#### Disadvantages\n",
    " - Named Tuples aren't as commonly used as classes, so some pythonistas reading your code may have to learn a new concept to understand your work. This isn't too bad, because it's a pretty lightweight concept.\n",
    " - Handling default values is a bit ugly with namedtuple, though if you are doing it often, you could wrap the light uglyness in a function."
   ]
  }
 ],
 "metadata": {
  "anaconda-cloud": {},
  "kernelspec": {
   "display_name": "Python [sci]",
   "language": "python",
   "name": "Python [sci]"
  },
  "language_info": {
   "codemirror_mode": {
    "name": "ipython",
    "version": 3
   },
   "file_extension": ".py",
   "mimetype": "text/x-python",
   "name": "python",
   "nbconvert_exporter": "python",
   "pygments_lexer": "ipython3",
   "version": "3.5.2"
  }
 },
 "nbformat": 4,
 "nbformat_minor": 0
}
