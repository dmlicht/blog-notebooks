{
 "cells": [
  {
   "cell_type": "code",
   "execution_count": 5,
   "metadata": {
    "collapsed": false
   },
   "outputs": [],
   "source": []
  },
  {
   "cell_type": "markdown",
   "metadata": {},
   "source": [
    "# K-Means clustering in 35 lines of python"
   ]
  },
  {
   "cell_type": "markdown",
   "metadata": {},
   "source": [
    "### Intro\n",
    "### Clustering is an [unsupervised learning](https://en.wikipedia.org/wiki/Unsupervised_learning) technique for finding similarity in your data. Want to find people that are similar? Cluster them into young hipsters, tech nerds, baby boomers, etc.\n",
    "For example: If you were to cluster points on a two dimensional plane, your clusters would be groupings of your points that are in close physical proximity to one another.\n",
    "\n",
    "Image - before  \n",
    "Image - after  \n",
    "\n",
    "\n",
    "### In this guide we're going to implement the core concepts of a k-means clustering algorithm.\n",
    "\n",
    "The core of our algorithm is:\n",
    "  1. randomly choose n cluster centroids.\n",
    "  2. repeat the next steps until convergence (until your clusters stop changing):\n",
    "  \n",
    "      a. assign each data point to a cluster according to the nearest cluster centroid.  \n",
    "      b. compute new centroids based on the mean of all points in the cluster.\n",
    "      \n",
    "In general, before clustering, you will want to scale your features so some dimensons don't end up dominating others.  \n",
    "In this guide, we will be using [pandas](http://pandas.pydata.org/) simplify data manipulation.  \n",
    "Also if you just want the code, [it's here](https://github.com/dmlicht/intro-to-k-means-clustering/blob/master/cluster.py).\n",
    "\n",
    "It's worth noting, we can make our code faster and smaller with [scipy's distance calculations](https://docs.scipy.org/doc/scipy-0.14.0/reference/spatial.distance.html), but I think doing so would hide the simple and important distance concept.\n",
    "\n",
    "Finally, do not use this code in your programs! It is just for education and its SUPER SLOW. You can use [sklearns built in clustering algorithm](http://scikit-learn.org/stable/modules/clustering.html#k-means), it's faster, better supported, and will cost you less code. If you've never worked with sklearn before, [it's easy to get started]()"
   ]
  },
  {
   "cell_type": "markdown",
   "metadata": {},
   "source": [
    "### Let's look at the whole thing, then we can dig into the important parts"
   ]
  },
  {
   "cell_type": "code",
   "execution_count": 17,
   "metadata": {
    "collapsed": true
   },
   "outputs": [],
   "source": [
    "from numpy import square, sqrt, setdiff1d\n",
    "\n",
    "CLUSTER = \"cluster\"\n",
    "\n",
    "def cluster(frame, n_clusters=5, n_iter=1000, distance_func=_dist):\n",
    "    cols = setdiff1d(scaled.columns.tolist(), [CLUSTER]) # exclude the cluster column from distance computations\n",
    "    centroids = frame.sample(n_clusters) # randomly pick clusters. There are other ways to pick.\n",
    "    ii = 0\n",
    "    while True:\n",
    "        ii += 1\n",
    "        print('cluster round: ', ii)\n",
    "        frame[CLUSTER] = _cluster_assignments(frame[cols], centroids[cols])\n",
    "        old_centroids = centroids.copy(deep=True)\n",
    "        centroids = scaled.groupby(CLUSTER).mean()\n",
    "        if old_centroids[cols].equals(centroids[cols]) or ii > n_iter:\n",
    "            break\n",
    "    return frame[CLUSTER]\n",
    "\n",
    "def _cluster_assignments(frame, centroids):\n",
    "    return scaled.apply(lambda x: _find_closest(x, centroids), axis=1) # assign each point to a cluster\n",
    "\n",
    "def _find_closest(point, points):\n",
    "    distances = points.apply(_dist_from(point), axis=1)\n",
    "    return distances.reset_index().sort_values(by=0).iloc[0].name\n",
    "\n",
    "def _dist_from(point):\n",
    "    return lambda x: _dist(x, point)\n",
    "\n",
    "def _dist(point_one, point_two):\n",
    "    return sqrt(square((point_one - point_two)).sum())"
   ]
  },
  {
   "cell_type": "markdown",
   "metadata": {},
   "source": [
    "## Let's look at the most important components of the algorithm\n",
    " * seed cluster centroids\n",
    " * assign points to clusters\n",
    " * recompute cluster centroids\n",
    " * stopping the algorithm"
   ]
  },
  {
   "cell_type": "markdown",
   "metadata": {},
   "source": [
    "### Seeding cluster centroids\n",
    "We randomly pick n points from our dataset to be our initial centroids using [`DataFrame.sample`](http://pandas.pydata.org/pandas-docs/stable/generated/pandas.DataFrame.sample.html)\n",
    "\n",
    "    centroids = frame.sample(n_clusters)"
   ]
  },
  {
   "cell_type": "markdown",
   "metadata": {},
   "source": [
    "### Assigning points to clusters\n",
    "This is where the meat of our algorithm lives. To assign a point to a cluster, we measure it's distance from each cluster centroid. We choose the cluster corresponding to the centroid with the smallest distance from our point.\n",
    "\n",
    "    def _cluster_assignments(frame, centroids):\n",
    "        return scaled.apply(lambda x: _find_closest(x, centroids), axis=1) # assign each point to a cluster\n",
    "        \n",
    "the `scaled.apply` line calls `_find_closest` once for each datapoint, passing in the datapoint and the collection of cluster centroids.\n",
    "\n",
    "    def _find_closest(point, points):\n",
    "        distances = points.apply(_dist_from(point), axis=1)\n",
    "        return distances.reset_index().sort_values(by=0).iloc[0].name\n",
    "        \n",
    "the `points.apply` returns a collection of distances between our datapoint and the cluster centroids. In the next line we sort the colletion by distance and return the cluster number corresponding to the shortest distance. \n",
    "\n",
    "`_cluster_assignments(frame[cols], centroids[cols])` returns a column containing the cluster assignments for each datapoint."
   ]
  },
  {
   "cell_type": "markdown",
   "metadata": {},
   "source": [
    "### recompute cluster centroids"
   ]
  },
  {
   "cell_type": "markdown",
   "metadata": {},
   "source": [
    "Pandas makes recomputing cluster centroids super easy. [`groupby`](http://pandas.pydata.org/pandas-docs/stable/generated/pandas.DataFrame.groupby.html) allows us to arrange subcollections based on some values in our table. We can then operate on the subcollections individually. We use `groupby` to split up our data by the current cluster, then compute the average `x` and `y` points for each cluster. Those become our new centroids. Pretty concise. Thanks for being beautiful pandas.\n",
    "\n",
    "    centroids = scaled.groupby(CLUSTER).mean()"
   ]
  },
  {
   "cell_type": "markdown",
   "metadata": {},
   "source": [
    "### Stopping the algorithm\n",
    "\n",
    "We should stop the algorithm when:\n",
    "  * the clusters stop changing\n",
    "  * we've run the max number of iterations\n",
    "  \n",
    "We check if the clusters stop changing with:\n",
    "\n",
    "    old_centroids = centroids.copy(deep=True)\n",
    "    centroids = scaled.groupby(CLUSTER).mean()\n",
    "    if old_centroids[cols].equals(centroids[cols]) ...:\n",
    "    \n",
    "We check if we've surpassed our max number of iterations with:\n",
    "   \n",
    "    if ... ii > n_iter:"
   ]
  },
  {
   "cell_type": "markdown",
   "metadata": {},
   "source": [
    "## OK, let's run this badboy"
   ]
  },
  {
   "cell_type": "markdown",
   "metadata": {},
   "source": [
    "### Generate some random data to cluster"
   ]
  },
  {
   "cell_type": "code",
   "execution_count": 19,
   "metadata": {
    "collapsed": false
   },
   "outputs": [
    {
     "data": {
      "text/plain": [
       "<matplotlib.axes._subplots.AxesSubplot at 0x1125e2630>"
      ]
     },
     "execution_count": 19,
     "metadata": {},
     "output_type": "execute_result"
    },
    {
     "data": {
      "image/png": "[encoded data removed]",
      "text/plain": [
       "<matplotlib.figure.Figure at 0x112592da0>"
      ]
     },
     "metadata": {},
     "output_type": "display_data"
    }
   ],
   "source": [
    "import pandas as pd\n",
    "import numpy as np\n",
    "import seaborn as sns #just to pretty things up a little bit\n",
    "%matplotlib inline\n",
    "\n",
    "random_frame = pd.DataFrame(np.random.randn(500, 2), columns=[\"x\", \"y\"])\n",
    "random_frame.plot(kind='scatter', x='x', y='y')"
   ]
  },
  {
   "cell_type": "markdown",
   "metadata": {},
   "source": [
    "### Run our cluster code"
   ]
  },
  {
   "cell_type": "code",
   "execution_count": 18,
   "metadata": {
    "collapsed": false
   },
   "outputs": [
    {
     "name": "stdout",
     "output_type": "stream",
     "text": [
      "cluster round:  1\n",
      "cluster round:  2\n",
      "cluster round:  3\n",
      "cluster round:  4\n",
      "cluster round:  5\n",
      "cluster round:  6\n",
      "cluster round:  7\n",
      "cluster round:  8\n",
      "cluster round:  9\n",
      "cluster round:  10\n",
      "cluster round:  11\n"
     ]
    }
   ],
   "source": [
    "scaled = random_frame / random_frame.max()\n",
    "random_frame[\"cluster\"] = cluster(scaled, n_iter=10)"
   ]
  },
  {
   "cell_type": "markdown",
   "metadata": {},
   "source": [
    "### Plot our result"
   ]
  },
  {
   "cell_type": "code",
   "execution_count": 16,
   "metadata": {
    "collapsed": false
   },
   "outputs": [
    {
     "data": {
      "image/png": "[encoded data removed]",
      "text/plain": [
       "<matplotlib.figure.Figure at 0x1125d3550>"
      ]
     },
     "metadata": {},
     "output_type": "display_data"
    }
   ],
   "source": [
    "import seaborn as sns\n",
    "from matplotlib import pyplot as plt\n",
    "\n",
    "color_codes = {\n",
    "    0: 'r',\n",
    "    1: 'g',\n",
    "    2: 'b',\n",
    "    3: 'y',\n",
    "    4: 'c'\n",
    "}\n",
    "\n",
    "def scatter_plot_colored(frame):\n",
    "    for (cluster, color) in color_codes.items():\n",
    "        rows = frame[frame[\"cluster\"] == cluster]\n",
    "        plt.scatter(rows[\"x\"], rows[\"y\"], color=color)\n",
    "    plt.show()\n",
    "    \n",
    "scatter_plot_colored(random_frame)"
   ]
  },
  {
   "cell_type": "markdown",
   "metadata": {},
   "source": [
    "### Conclusion\n",
    "And voila, that's it! There are many things to consider when building and using clustering algorithms, but, we won't dig into them now. Some things you could think about for later are:\n",
    "\n",
    "  - How to choose cluster centroids\n",
    "  - Running your cluster several times so you don't end up less desirable convergence\n",
    "  - When to stop your algorithm\n",
    "  - How to choose the number of clusters to use\n",
    "  - Choosing a different distance function\n",
    "  - many more things!"
   ]
  }
 ],
 "metadata": {
  "kernelspec": {
   "display_name": "Python [sci]",
   "language": "python",
   "name": "Python [sci]"
  },
  "language_info": {
   "codemirror_mode": {
    "name": "ipython",
    "version": 3
   },
   "file_extension": ".py",
   "mimetype": "text/x-python",
   "name": "python",
   "nbconvert_exporter": "python",
   "pygments_lexer": "ipython3",
   "version": "3.5.2"
  }
 },
 "nbformat": 4,
 "nbformat_minor": 0
}
